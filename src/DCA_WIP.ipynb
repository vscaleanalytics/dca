{
 "cells": [
  {
   "cell_type": "markdown",
   "metadata": {},
   "source": [
    "### Decline Curve Analysis\n",
    "\n",
    "Automatic decline curve fitting"
   ]
  },
  {
   "cell_type": "markdown",
   "metadata": {},
   "source": [
    "### next step\n",
    "https://github.com/shanminlin/decline_curve_analysis/blob/master/DCA.py\n",
    "* flag 0 and na \n",
    "* initial peak\n",
    "* calculate days-on"
   ]
  },
  {
   "cell_type": "markdown",
   "metadata": {},
   "source": [
    "## 1. environment and functions"
   ]
  },
  {
   "cell_type": "code",
   "execution_count": 38,
   "metadata": {},
   "outputs": [],
   "source": [
    "import pandas as pd\n",
    "from scipy.optimize import curve_fit\n",
    "import numpy as np\n",
    "import matplotlib.pyplot as plt\n",
    "pd.options.mode.chained_assignment = None\n",
    "from datetime import datetime\n",
    "import calendar\n",
    "from scipy.signal import find_peaks\n",
    "pd.options.display.float_format = '{:.4f}'.format\n",
    "# pptx\n",
    "from pptx import Presentation\n",
    "from pptx.util import Inches, Pt\n",
    "from pptx.enum.shapes import MSO_SHAPE"
   ]
  },
  {
   "cell_type": "code",
   "execution_count": 39,
   "metadata": {},
   "outputs": [],
   "source": [
    "def load_data(file_path, hc):\n",
    "    \"\"\"\n",
    "    read, reformat, and clean data\n",
    "    Arguments:\n",
    "        file_path (string): data file location\n",
    "        hc (string): oil or gas\n",
    "    Returns:\n",
    "        data (pd.DataFrame)\n",
    "    \n",
    "    \"\"\"\n",
    "    # Read in the monthly oil and gas data\n",
    "    data = pd.read_csv(file_path)\n",
    "    # date from year and month\n",
    "    data.insert(1, 'date', data.apply(lambda row: datetime(int(row['year']), int(row['month']), 1), axis=1))\n",
    "    # sort by date\n",
    "    data = data.sort_values([col_id, 'date'], ascending=True)\n",
    "    # index\n",
    "    data = data.reset_index(drop=True)\n",
    "    data.insert(0, 'Index', data.index)\n",
    "    # number of days in the month\n",
    "    data['no_days'] = data.apply(lambda row: calendar.monthlen(int(row['year']), int(row['month'])), axis=1)\n",
    "    # mid month\n",
    "    data['mid_month'] = data.apply(lambda row: row['date'] + pd.DateOffset(int(row['no_days']/2)), axis=1)\n",
    "    # hc production daily rate\n",
    "    data[hc + '_rate'] = data[hc] / data['no_days']\n",
    "    return data"
   ]
  },
  {
   "cell_type": "code",
   "execution_count": 56,
   "metadata": {},
   "outputs": [],
   "source": [
    "def decline_curve(dc_model, d_trans=0.06):\n",
    "    \"\"\"\n",
    "    decline curve model\n",
    "    Arguments:\n",
    "        dc_model (str): name of the decline model \n",
    "        q_i (float): initial peak production rate\n",
    "        d_i (float): initial decline rate\n",
    "        b (float): b-factor, between 0 and 2\n",
    "        d_f (float): decline rate when transition to exponenail decline\n",
    "    \"\"\"\n",
    "    # exponential b = 0\n",
    "    if dc_model == \"exponential\":\n",
    "        def exponential_decline(x, q_i, d_i):\n",
    "            return q_i * np.exp(- d_i * x)\n",
    "        return exponential_decline\n",
    "    # hyperbolic\n",
    "    elif dc_model == \"hyperbolic\":\n",
    "        def hyperbolic_decline(x, q_i, d_i, b):\n",
    "            return q_i / np.power((1 + b * d_i * x), 1. / b)\n",
    "        return hyperbolic_decline\n",
    "    # harmonic b = 1\n",
    "    elif dc_model == \"harmonic\":\n",
    "        def harmonic_decline(x, q_i, d_i):\n",
    "            return q_i / (1 + d_i * x)\n",
    "        return parabolic_decline\n",
    "    # hyperbolic to exponential\n",
    "    elif dc_model == \"hybrid\":\n",
    "        def hybrid_decline(x, q_i, d_i, b):\n",
    "            # when transition occurs (t_trans)\n",
    "            x_trans = (d_i / d_trans - 1) / (b * d_i)        \n",
    "            # hyperbolic decline\n",
    "            q_trans = q_i / np.power((1 + b * d_i * x_trans), 1. / b)\n",
    "            q = q_i / np.power((1 + b * d_i * x), 1. / b)\n",
    "            # switch to exponential decline\n",
    "            q_exp = q_trans * np.exp(-d_trans * (x[x > x_trans] - x_trans))\n",
    "            q[x > x_trans] = q_exp\n",
    "            return q\n",
    "        return hybrid_decline\n",
    "    # exception\n",
    "    else:\n",
    "        print(\"I don't know this decline curve!\")"
   ]
  },
  {
   "cell_type": "code",
   "execution_count": 57,
   "metadata": {},
   "outputs": [],
   "source": [
    "# def dca(sub_data, col_hc, col_time, dc_model='hyperbolic', \n",
    "#         col_id='api', no_ignor=0, time_cutoff=12, min_record=6,\n",
    "#         plot=True):\n",
    "#     \"\"\"\n",
    "#     prepare data for production fitting\n",
    "#     Arguments:\n",
    "#         sub_data (pd.DataFrame): data\n",
    "#         col_hc (string): column name of the HC of interest \n",
    "#         col_time (string): how many month since first prod\n",
    "#         dc_model (string): DCA model to use\n",
    "#         no_ignor (integer): number of initial records to be ingored\n",
    "#         time_cutoff (float): range of records for identify initial peak\n",
    "#         min_record (int): minimum records needed for dca analysis\n",
    "#     Returns:\n",
    "#         popt: fitted DCA parameters\n",
    "#     \"\"\"   \n",
    "#     popt = None\n",
    "#     sub_data = fur_clean(sub_data, col_hc, col_time)\n",
    "#     if sub_data.shape[0] >= min_record:\n",
    "#         # identify initial peak\n",
    "#         peak_index = initial_peak(df=sub_data, col_hc=col_hc, no_ignor=no_ignor, time_cutoff=time_cutoff)\n",
    "#         # initial peak vol\n",
    "#         q_i = sub_data.loc[peak_index, col_hc].item()\n",
    "#     #     # manually remove last phase\n",
    "#     #     t_end = 70\n",
    "#     #     sub_data.loc[sub_data['t'] > t_end, 't'] = -1\n",
    "#         sub_data['t'] = sub_data[col_time] - sub_data.loc[peak_index, col_time]\n",
    "#         # flag range of data used for dca fitting\n",
    "#         flag_pred = sub_data['t'] >= 0    \n",
    "#         if sum(flag_pred) >= min_record:\n",
    "#             #Hyperbolic curve fit the data to get best fit equation\n",
    "#             fun_decline = decline_curve(dc_model)\n",
    "            \n",
    "#             try:\n",
    "#                 popt, _ = curve_fit(fun_decline, \n",
    "#                                     sub_data.loc[flag_pred, 't'], \n",
    "#                                     sub_data.loc[flag_pred, col_hc],\n",
    "#                                     bounds=([q_i/1.1, 0.0, 0.0], [q_i*1.1, 1.0, 2.0]), \n",
    "#                                     method='trf',\n",
    "#                                     loss='soft_l1' \n",
    "#                                     )\n",
    "#                 flag_fit = True\n",
    "# #                 print('Curve-fitted Variables: q_i='+str(int(popt[0])) \\\n",
    "# #                       +', b='+str(round(popt[1],3)) \\\n",
    "# #                       +', d_i='+str(round(popt[2],3)))\n",
    "#             except RuntimeError:\n",
    "#                 flag_fit = False\n",
    "            \n",
    "#             if flag_fit:\n",
    "#                 # predicted production volume\n",
    "#                 sub_data.loc[flag_pred, col_hc+'_pred'] = fun_decline(sub_data.loc[flag_pred, 't'], *popt)\n",
    "# #                 # predict 20 years\n",
    "# #                 t_max = 20*12\n",
    "# #                 t_pred = np.linspace(start=0, stop=t_max, num=t_max+1) \n",
    "# #                 pred = fun_decline(t_pred, *popt)\n",
    "# #                 # bring to same time scale\n",
    "# #                 t_pred = t_pred + sub_data.loc[peak_index, col_time]\n",
    "\n",
    "#             if plot & flag_fit:\n",
    "#                 # overlay actual with fitted decline curve\n",
    "#                 well = str(sub_data[col_id].unique()[0])\n",
    "#                 fig, ax = plt.subplots(1, figsize=(15, 8))\n",
    "#                 title = 'well: ' + well + ' ' + col_hc + ':'\\\n",
    "#                         + ' q_i ' + str(int(popt[0])) \\\n",
    "#                         + ', d_i ' + str(round(popt[2], 3))\n",
    "#                 if dc_model == 'hyperbolic':\n",
    "#                     title += ', b ' + str(round(popt[1], 3))\n",
    "#                 ax.set_title(title, fontsize=20)\n",
    "#                 label_size = 15\n",
    "#                 yed = [tick.label.set_fontsize(label_size) for tick in ax.yaxis.get_major_ticks()]\n",
    "#                 xed = [tick.label.set_fontsize(label_size) for tick in ax.xaxis.get_major_ticks()]\n",
    "#                 ax.scatter(sub_data[col_time], sub_data[col_hc], color='grey', marker='.', alpha=0.8, s=50, linewidth=3)\n",
    "#                 ax.scatter(sub_data.loc[flag_pred, col_time], sub_data.loc[flag_pred, col_hc], color='black', marker='.', alpha=0.8, s=50, linewidth=3, label=\"actual\")\n",
    "#                 ax.plot(sub_data[col_time], sub_data[col_hc], color='grey', linewidth=3, alpha=0.5, label='Actual')\n",
    "#                 ax.plot(sub_data.loc[flag_pred, col_time], sub_data.loc[flag_pred, col_hc+'_pred'], color=\"red\", linewidth=3, alpha=0.7, label=\"DCA fit\")\n",
    "#                 # ax.plot(T_pred, pred, color='b`lue', linewidth=3, alpha=0.5, label='DCA fit')\n",
    "#                 ax.set_xlabel(\"Month\", fontsize=20)\n",
    "#                 ax.set_ylabel(\"Monthly Rate\", fontsize=20)\n",
    "#                 ax.legend()\n",
    "#                 img_path = '../result/plt/' + well + '.png'\n",
    "#                 fig.savefig(img_path)\n",
    "#                 plt.close(fig)\n",
    "                \n",
    "#                 ## add fitting result to slide ##\n",
    "#                 slide = prs.slides.add_slide(plot_slide_layout)\n",
    "#                 # text paragraph\n",
    "#                 # left = top = width = height = Inches(1)\n",
    "#                 left = Inches(1)\n",
    "#                 top = Inches(0.5)\n",
    "#                 width = height = Inches(1)\n",
    "#                 txBox = slide.shapes.add_textbox(left, top, width, height)\n",
    "#                 tf = txBox.text_frame\n",
    "#                 p = tf.add_paragraph()\n",
    "#                 p.text = \"well: \" + well\n",
    "#                 p.font.bold = True\n",
    "#                 p.font.size = Pt(20)\n",
    "#                 # plot\n",
    "#                 top = Inches(1.7)\n",
    "#                 left = Inches(0.5)\n",
    "#                 height = Inches(5)\n",
    "#                 width = Inches(8.5)\n",
    "#                 pic = slide.shapes.add_picture(img_path, left, top, height=height, width=width)\n",
    "#     return popt    "
   ]
  },
  {
   "cell_type": "markdown",
   "metadata": {},
   "source": [
    "## 2. prepare data"
   ]
  },
  {
   "cell_type": "code",
   "execution_count": 58,
   "metadata": {},
   "outputs": [],
   "source": [
    "def flag_missing_zero(sub_data, col_hc):\n",
    "    \"\"\"\n",
    "    flag data with missing production or 0 production\n",
    "    Arguments:\n",
    "        sub_data (pd.DataFrame): data for a well\n",
    "        col_hc (str): columna for hc of interest\n",
    "    Returns:\n",
    "        sub_data (pd.DataFrame): added 'flag_prod' column\n",
    "    \"\"\"\n",
    "    sub_data['flag_pred'] = True\n",
    "    # flag out missing or 0 production\n",
    "    sub_data.loc[(sub_data[col_hc].isnull()) | (sub_data[col_hc]==0), 'flag_pred'] = False\n",
    "    \n",
    "    return sub_data\n",
    "\n",
    "\n",
    "def flag_jump(sub_data, col_hc, min_record, ratio_cutoff=2.0, delta_days_cutoff=180):\n",
    "    \"\"\"\n",
    "    flag data with big production decrease or big jump in days\n",
    "    Arguments:\n",
    "        sub_data (pd.DataFrame): data for a well\n",
    "        col_hc (str): columna for hc of interest\n",
    "        min_record (int): minimum of records to run dca\n",
    "        ratio_cutoff (float): cutoff of ratio between first two production rates\n",
    "        delta_days_cutoff (int): cutoff of delta days between first two production records\n",
    "    Returns:\n",
    "        sub_data (pd.DataFrame): with updated 'flag_prod' column\n",
    "    \"\"\"\n",
    "    while sub_data['flag_pred'].sum() >= min_record:\n",
    "        index_0, index_1 =sub_data.loc[sub_data['flag_pred'], 'Index'].tolist()[:2]\n",
    "        hc_0, hc_1 = sub_data.loc[[index_0, index_1], col_hc]\n",
    "        date_0, date_1 = sub_data.loc[[index_0, index_1], 'date']\n",
    "        ratio = hc_0 / hc_1\n",
    "        delta_days = (date_1 - date_0).days\n",
    "        if (ratio > ratio_cutoff) | (delta_days > delta_days_cutoff):\n",
    "            sub_data.loc[index_0, 'flag_pred'] = False\n",
    "        else:\n",
    "            break\n",
    "    \n",
    "    return sub_data\n",
    "\n",
    "\n",
    "def identify_peak(sub_data, col_hc, time_cutoff=12, plot=False):\n",
    "    \"\"\"\n",
    "    identify peak\n",
    "    Arguments:\n",
    "        sub_data (pd.DataFrame): data for a well\n",
    "        col_hc (str): columna for hc of interest\n",
    "        time_cutoff (int): number of records for identify peak\n",
    "        plot (Boolean): whether to plot peak on production data\n",
    "    Returns:\n",
    "        index_peak (int): index of the peak\n",
    "    \"\"\"\n",
    "    sub_data['flag_data'] = sub_data['flag_pred']\n",
    "    # default to index of first row where flag_pred = True\n",
    "    index_peak = sub_data.loc[sub_data['flag_pred'],:].iloc[0]['Index']\n",
    "    # cutoff of heigh for peak identification\n",
    "    height = sub_data.loc[sub_data['flag_pred'], col_hc].head(time_cutoff).quantile(0.75)\n",
    "    peaks,_ = find_peaks(sub_data.loc[sub_data['flag_pred'], col_hc].head(time_cutoff), prominence=1, height=height) \n",
    "    list_peaks = []\n",
    "    if len(peaks):\n",
    "        for id_peak in list(peaks):\n",
    "            index_peak = list(sub_data.loc[sub_data['flag_pred'], 'Index'])[id_peak]\n",
    "            list_peaks.append(index_peak)\n",
    "    # visualize the peak\n",
    "    if plot:\n",
    "        fig, ax = plt.subplots(1, figsize=(15, 8))\n",
    "        title = 'peak identificatin'\n",
    "        ax.set_title(title, fontsize=20)\n",
    "        label_size = 15\n",
    "        ax.scatter(sub_data.loc[sub_data['flag_pred'], 'date'], \n",
    "                   sub_data.loc[sub_data['flag_pred'], col_hc], \n",
    "                   color='grey', marker='.', alpha=0.8, s=50, label='data points')\n",
    "        ax.scatter(sub_data.loc[list_peaks, 'date'], \n",
    "                   sub_data.loc[list_peaks, col_hc], \n",
    "                   color='blue', marker='.', alpha=0.8, s=50, label='intermediates')\n",
    "        ax.scatter(sub_data.loc[index_peak, 'date'], \n",
    "                   sub_data.loc[index_peak, col_hc], \n",
    "                   color='red', marker='x', alpha=0.8, s=50, label='final peak')\n",
    "        ax.plot(sub_data.loc[sub_data['flag_pred'], 'date'], \n",
    "                sub_data.loc[sub_data['flag_pred'], col_hc], \n",
    "                color='grey', linewidth=3, alpha=0.5)\n",
    "        ax.set_xlabel(\"Date\", fontsize=20)\n",
    "        ax.set_ylabel(\"Daily Rate\", fontsize=20)\n",
    "        ax.legend() \n",
    "    \n",
    "    return index_peak\n",
    "\n",
    "def clean_data(sub_data, col_hc, min_record=12, plot=True):\n",
    "    \"\"\"\n",
    "    prepare data for decline curve analysis\n",
    "    Arguments:\n",
    "        sub_data (pd.DataFrame): data for a well\n",
    "        min_record (int): minimum of records to run dca\n",
    "        col_hc (str): columna for hc of interest\n",
    "        plot (Boolean): plot time-series with peak\n",
    "    Returns:\n",
    "        sub_data (pd.DataFrame): added 'flag_prod' column\n",
    "        q_i (float): initial peak\n",
    "    \"\"\"\n",
    "    q_i = np.nan\n",
    "    # flag out missing or 0 production\n",
    "    sub_data = flag_missing_zero(sub_data=sub_data, col_hc=col_hc)\n",
    "    # flag data with big production decrease or big jump in days\n",
    "    sub_data = flag_jump(sub_data=sub_data, col_hc=col_hc, min_record=min_record)\n",
    "    if sub_data['flag_pred'].sum() >= min_record:\n",
    "        # identify peak\n",
    "        index_peak = identify_peak(sub_data=sub_data, col_hc=col_hc, plot=plot)\n",
    "        q_i = sub_data.loc[index_peak, col_hc].item()\n",
    "        # set flag_prod to False for record before index_peak\n",
    "        sub_data.loc[sub_data['Index'] < index_peak, 'flag_pred'] = False\n",
    "        # first reported production\n",
    "        first_prod = sub_data.loc[index_peak, 'date']\n",
    "        #sub_data['first_prod']= sub_data.loc[sub_data['flag_pred'],:].groupby('api')['date'].transform(min)\n",
    "        # number of days_on\n",
    "        sub_data['days_on'] = (sub_data['mid_month'] - first_prod).dt.days\n",
    "        \n",
    "    return q_i, sub_data "
   ]
  },
  {
   "cell_type": "code",
   "execution_count": 43,
   "metadata": {},
   "outputs": [],
   "source": [
    "## setting ##\n",
    "col_id = 'api'\n",
    "hc = 'oil'\n",
    "col_hc = hc+'_rate'\n",
    "single_phase = type(hc) is str\n",
    "col_time = 'days_on'\n",
    "file_data ='../data/eddy.csv'\n",
    "dc_model = 'hyperbolic'\n",
    "min_record = 12 # minimum of records to run dca"
   ]
  },
  {
   "cell_type": "code",
   "execution_count": 60,
   "metadata": {},
   "outputs": [],
   "source": [
    "## data preparation ##\n",
    "data = load_data(file_data, hc)"
   ]
  },
  {
   "cell_type": "code",
   "execution_count": 45,
   "metadata": {},
   "outputs": [
    {
     "output_type": "error",
     "ename": "NameError",
     "evalue": "name 'data' is not defined",
     "traceback": [
      "\u001b[0;31m---------------------------------------------------------------------------\u001b[0m",
      "\u001b[0;31mNameError\u001b[0m                                 Traceback (most recent call last)",
      "\u001b[0;32m<ipython-input-45-460f4da8a36f>\u001b[0m in \u001b[0;36m<module>\u001b[0;34m\u001b[0m\n\u001b[1;32m      1\u001b[0m \u001b[0mwell\u001b[0m \u001b[0;34m=\u001b[0m \u001b[0;36m3001522524\u001b[0m\u001b[0;34m\u001b[0m\u001b[0;34m\u001b[0m\u001b[0m\n\u001b[0;32m----> 2\u001b[0;31m \u001b[0msub_data\u001b[0m \u001b[0;34m=\u001b[0m \u001b[0mdata\u001b[0m\u001b[0;34m.\u001b[0m\u001b[0mloc\u001b[0m\u001b[0;34m[\u001b[0m\u001b[0mdata\u001b[0m\u001b[0;34m[\u001b[0m\u001b[0mcol_id\u001b[0m\u001b[0;34m]\u001b[0m \u001b[0;34m==\u001b[0m \u001b[0mwell\u001b[0m\u001b[0;34m,\u001b[0m \u001b[0;34m:\u001b[0m\u001b[0;34m]\u001b[0m\u001b[0;34m\u001b[0m\u001b[0;34m\u001b[0m\u001b[0m\n\u001b[0m",
      "\u001b[0;31mNameError\u001b[0m: name 'data' is not defined"
     ]
    }
   ],
   "source": [
    "well = 3001522524\n",
    "sub_data = data.loc[data[col_id] == well, :]"
   ]
  },
  {
   "cell_type": "code",
   "execution_count": 46,
   "metadata": {},
   "outputs": [
    {
     "output_type": "error",
     "ename": "NameError",
     "evalue": "name 'sub_data' is not defined",
     "traceback": [
      "\u001b[0;31m---------------------------------------------------------------------------\u001b[0m",
      "\u001b[0;31mNameError\u001b[0m                                 Traceback (most recent call last)",
      "\u001b[0;32m<ipython-input-46-3b33c6357bfd>\u001b[0m in \u001b[0;36m<module>\u001b[0;34m\u001b[0m\n\u001b[0;32m----> 1\u001b[0;31m \u001b[0msub_data\u001b[0m\u001b[0;34m.\u001b[0m\u001b[0mhead\u001b[0m\u001b[0;34m(\u001b[0m\u001b[0;34m)\u001b[0m\u001b[0;34m\u001b[0m\u001b[0;34m\u001b[0m\u001b[0m\n\u001b[0m",
      "\u001b[0;31mNameError\u001b[0m: name 'sub_data' is not defined"
     ]
    }
   ],
   "source": [
    "sub_data.head()"
   ]
  },
  {
   "cell_type": "code",
   "execution_count": 47,
   "metadata": {},
   "outputs": [
    {
     "output_type": "error",
     "ename": "NameError",
     "evalue": "name 'sub_data' is not defined",
     "traceback": [
      "\u001b[0;31m---------------------------------------------------------------------------\u001b[0m",
      "\u001b[0;31mNameError\u001b[0m                                 Traceback (most recent call last)",
      "\u001b[0;32m<ipython-input-47-820d5752af49>\u001b[0m in \u001b[0;36m<module>\u001b[0;34m\u001b[0m\n\u001b[0;32m----> 1\u001b[0;31m \u001b[0mq_i\u001b[0m\u001b[0;34m,\u001b[0m \u001b[0msub_data\u001b[0m \u001b[0;34m=\u001b[0m \u001b[0mclean_data\u001b[0m\u001b[0;34m(\u001b[0m\u001b[0msub_data\u001b[0m\u001b[0;34m,\u001b[0m \u001b[0mcol_hc\u001b[0m\u001b[0;34m=\u001b[0m\u001b[0mcol_hc\u001b[0m\u001b[0;34m,\u001b[0m \u001b[0mmin_record\u001b[0m\u001b[0;34m=\u001b[0m\u001b[0mmin_record\u001b[0m\u001b[0;34m,\u001b[0m \u001b[0mplot\u001b[0m\u001b[0;34m=\u001b[0m\u001b[0;32mFalse\u001b[0m\u001b[0;34m)\u001b[0m\u001b[0;34m\u001b[0m\u001b[0;34m\u001b[0m\u001b[0m\n\u001b[0m",
      "\u001b[0;31mNameError\u001b[0m: name 'sub_data' is not defined"
     ]
    }
   ],
   "source": [
    "q_i, sub_data = clean_data(sub_data, col_hc=col_hc, min_record=min_record, plot=False)"
   ]
  },
  {
   "cell_type": "code",
   "execution_count": 48,
   "metadata": {
    "tags": []
   },
   "outputs": [
    {
     "output_type": "error",
     "ename": "NameError",
     "evalue": "name 'sub_data' is not defined",
     "traceback": [
      "\u001b[0;31m---------------------------------------------------------------------------\u001b[0m",
      "\u001b[0;31mNameError\u001b[0m                                 Traceback (most recent call last)",
      "\u001b[0;32m<ipython-input-48-86898370db25>\u001b[0m in \u001b[0;36m<module>\u001b[0;34m\u001b[0m\n\u001b[0;32m----> 1\u001b[0;31m \u001b[0;32mif\u001b[0m \u001b[0msub_data\u001b[0m\u001b[0;34m[\u001b[0m\u001b[0;34m'flag_pred'\u001b[0m\u001b[0;34m]\u001b[0m\u001b[0;34m.\u001b[0m\u001b[0msum\u001b[0m\u001b[0;34m(\u001b[0m\u001b[0;34m)\u001b[0m \u001b[0;34m>=\u001b[0m \u001b[0mmin_record\u001b[0m\u001b[0;34m:\u001b[0m\u001b[0;34m\u001b[0m\u001b[0;34m\u001b[0m\u001b[0m\n\u001b[0m\u001b[1;32m      2\u001b[0m     \u001b[0;31m#Hyperbolic curve fit the data to get best fit equation\u001b[0m\u001b[0;34m\u001b[0m\u001b[0;34m\u001b[0m\u001b[0;34m\u001b[0m\u001b[0m\n\u001b[1;32m      3\u001b[0m     \u001b[0mfun_decline\u001b[0m \u001b[0;34m=\u001b[0m \u001b[0mdecline_curve\u001b[0m\u001b[0;34m(\u001b[0m\u001b[0mdc_model\u001b[0m\u001b[0;34m)\u001b[0m\u001b[0;34m\u001b[0m\u001b[0;34m\u001b[0m\u001b[0m\n\u001b[1;32m      4\u001b[0m \u001b[0;31m#     # force to ignore last period\u001b[0m\u001b[0;34m\u001b[0m\u001b[0;34m\u001b[0m\u001b[0;34m\u001b[0m\u001b[0m\n\u001b[1;32m      5\u001b[0m \u001b[0;31m#     remove_tail = sub_data.loc[sub_data['flag_pred'], 'days_on'].max() - 10*365\u001b[0m\u001b[0;34m\u001b[0m\u001b[0;34m\u001b[0m\u001b[0;34m\u001b[0m\u001b[0m\n",
      "\u001b[0;31mNameError\u001b[0m: name 'sub_data' is not defined"
     ]
    }
   ],
   "source": [
    "if sub_data['flag_pred'].sum() >= min_record:\n",
    "    #Hyperbolic curve fit the data to get best fit equation\n",
    "    fun_decline = decline_curve(dc_model)\n",
    "#     # force to ignore last period\n",
    "#     remove_tail = sub_data.loc[sub_data['flag_pred'], 'days_on'].max() - 10*365\n",
    "#     sub_data.loc[sub_data['days_on'] > remove_tail, 'flag_pred']=False\n",
    "    flag_pred = sub_data['flag_pred']\n",
    "\n",
    "    try:\n",
    "        popt, _ = curve_fit(fun_decline, \n",
    "                            sub_data.loc[flag_pred, col_time], \n",
    "                            sub_data.loc[flag_pred, col_hc],\n",
    "                            bounds=([q_i/1.1, 0.0, 0.0], [q_i*1.1, 1.0, 2.0]), \n",
    "                            method='trf',\n",
    "                            loss='soft_l1' \n",
    "                            )\n",
    "        flag_fit = True\n",
    "        print('Curve-fitted Variables: q_i='+str(int(popt[0])) \\\n",
    "              +', d_i='+str(round(popt[1],3)) \\\n",
    "              +', b ='+str(round(popt[2],3))\n",
    "             )\n",
    "    except RuntimeError:\n",
    "        flag_fit = False\n",
    "            "
   ]
  },
  {
   "cell_type": "code",
   "execution_count": 49,
   "metadata": {},
   "outputs": [
    {
     "output_type": "error",
     "ename": "NameError",
     "evalue": "name 'flag_fit' is not defined",
     "traceback": [
      "\u001b[0;31m---------------------------------------------------------------------------\u001b[0m",
      "\u001b[0;31mNameError\u001b[0m                                 Traceback (most recent call last)",
      "\u001b[0;32m<ipython-input-49-e131ac905f9c>\u001b[0m in \u001b[0;36m<module>\u001b[0;34m\u001b[0m\n\u001b[0;32m----> 1\u001b[0;31m \u001b[0;32mif\u001b[0m \u001b[0mflag_fit\u001b[0m\u001b[0;34m:\u001b[0m\u001b[0;34m\u001b[0m\u001b[0;34m\u001b[0m\u001b[0m\n\u001b[0m\u001b[1;32m      2\u001b[0m     \u001b[0;31m# predicted production volume\u001b[0m\u001b[0;34m\u001b[0m\u001b[0;34m\u001b[0m\u001b[0;34m\u001b[0m\u001b[0m\n\u001b[1;32m      3\u001b[0m \u001b[0;34m\u001b[0m\u001b[0m\n\u001b[1;32m      4\u001b[0m     \u001b[0msub_data\u001b[0m\u001b[0;34m.\u001b[0m\u001b[0mloc\u001b[0m\u001b[0;34m[\u001b[0m\u001b[0mflag_pred\u001b[0m\u001b[0;34m,\u001b[0m \u001b[0mcol_hc\u001b[0m\u001b[0;34m+\u001b[0m\u001b[0;34m'_pred'\u001b[0m\u001b[0;34m]\u001b[0m \u001b[0;34m=\u001b[0m \u001b[0mfun_decline\u001b[0m\u001b[0;34m(\u001b[0m\u001b[0msub_data\u001b[0m\u001b[0;34m.\u001b[0m\u001b[0mloc\u001b[0m\u001b[0;34m[\u001b[0m\u001b[0mflag_pred\u001b[0m\u001b[0;34m,\u001b[0m \u001b[0mcol_time\u001b[0m\u001b[0;34m]\u001b[0m\u001b[0;34m,\u001b[0m \u001b[0;34m*\u001b[0m\u001b[0mpopt\u001b[0m\u001b[0;34m)\u001b[0m\u001b[0;34m\u001b[0m\u001b[0;34m\u001b[0m\u001b[0m\n\u001b[1;32m      5\u001b[0m \u001b[0;31m#     # predict 20 years\u001b[0m\u001b[0;34m\u001b[0m\u001b[0;34m\u001b[0m\u001b[0;34m\u001b[0m\u001b[0m\n",
      "\u001b[0;31mNameError\u001b[0m: name 'flag_fit' is not defined"
     ]
    }
   ],
   "source": [
    "if flag_fit:\n",
    "    # predicted production volume\n",
    "\n",
    "    sub_data.loc[flag_pred, col_hc+'_pred'] = fun_decline(sub_data.loc[flag_pred, col_time], *popt)\n",
    "#     # predict 20 years\n",
    "#     t_max = 20*12\n",
    "#     t_pred = np.linspace(start=0, stop=t_max, num=t_max+1) \n",
    "#     pred = fun_decline(t_pred, *popt)\n",
    "#     # bring to same time scale\n",
    "#     t_pred = t_pred + sub_data.loc[peak_index, col_time]"
   ]
  },
  {
   "cell_type": "code",
   "execution_count": 50,
   "metadata": {},
   "outputs": [
    {
     "output_type": "error",
     "ename": "NameError",
     "evalue": "name 'flag_fit' is not defined",
     "traceback": [
      "\u001b[0;31m---------------------------------------------------------------------------\u001b[0m",
      "\u001b[0;31mNameError\u001b[0m                                 Traceback (most recent call last)",
      "\u001b[0;32m<ipython-input-50-7da750da62a0>\u001b[0m in \u001b[0;36m<module>\u001b[0;34m\u001b[0m\n\u001b[1;32m      1\u001b[0m \u001b[0mplot\u001b[0m \u001b[0;34m=\u001b[0m \u001b[0;32mTrue\u001b[0m\u001b[0;34m\u001b[0m\u001b[0;34m\u001b[0m\u001b[0m\n\u001b[0;32m----> 2\u001b[0;31m \u001b[0;32mif\u001b[0m \u001b[0mplot\u001b[0m \u001b[0;34m&\u001b[0m \u001b[0mflag_fit\u001b[0m\u001b[0;34m:\u001b[0m\u001b[0;34m\u001b[0m\u001b[0;34m\u001b[0m\u001b[0m\n\u001b[0m\u001b[1;32m      3\u001b[0m     \u001b[0;31m# overlay actual with fitted decline curve\u001b[0m\u001b[0;34m\u001b[0m\u001b[0;34m\u001b[0m\u001b[0;34m\u001b[0m\u001b[0m\n\u001b[1;32m      4\u001b[0m     \u001b[0mwell\u001b[0m \u001b[0;34m=\u001b[0m \u001b[0mstr\u001b[0m\u001b[0;34m(\u001b[0m\u001b[0mwell\u001b[0m\u001b[0;34m)\u001b[0m\u001b[0;34m\u001b[0m\u001b[0;34m\u001b[0m\u001b[0m\n\u001b[1;32m      5\u001b[0m     \u001b[0mfig\u001b[0m\u001b[0;34m,\u001b[0m \u001b[0max\u001b[0m \u001b[0;34m=\u001b[0m \u001b[0mplt\u001b[0m\u001b[0;34m.\u001b[0m\u001b[0msubplots\u001b[0m\u001b[0;34m(\u001b[0m\u001b[0;36m1\u001b[0m\u001b[0;34m,\u001b[0m \u001b[0mfigsize\u001b[0m\u001b[0;34m=\u001b[0m\u001b[0;34m(\u001b[0m\u001b[0;36m15\u001b[0m\u001b[0;34m,\u001b[0m \u001b[0;36m8\u001b[0m\u001b[0;34m)\u001b[0m\u001b[0;34m)\u001b[0m\u001b[0;34m\u001b[0m\u001b[0;34m\u001b[0m\u001b[0m\n",
      "\u001b[0;31mNameError\u001b[0m: name 'flag_fit' is not defined"
     ]
    }
   ],
   "source": [
    "plot = True\n",
    "if plot & flag_fit:\n",
    "    # overlay actual with fitted decline curve\n",
    "    well = str(well)\n",
    "    fig, ax = plt.subplots(1, figsize=(15, 8))\n",
    "    title = 'well: ' + well + ' ' + col_hc + ':'\\\n",
    "            + ' q_i ' + str(int(popt[0])) \\\n",
    "            + ', d_i ' + str(round(popt[1]*100, 1)) + '%'\n",
    "    if dc_model == 'hyperbolic':\n",
    "        title += ', b ' + str(round(popt[2], 3))\n",
    "    ax.set_title(title, fontsize=20)\n",
    "    label_size = 15\n",
    "    yed = [tick.label.set_fontsize(label_size) for tick in ax.yaxis.get_major_ticks()]\n",
    "    xed = [tick.label.set_fontsize(label_size) for tick in ax.xaxis.get_major_ticks()]\n",
    "    ax.scatter(sub_data.loc[sub_data['flag_data'], col_time], \n",
    "               sub_data.loc[sub_data['flag_data'], col_hc], \n",
    "               color='grey', marker='.', alpha=0.8, s=50, linewidth=3, label=\"actual\")\n",
    "    ax.scatter(sub_data.loc[flag_pred, col_time], \n",
    "               sub_data.loc[flag_pred, col_hc], \n",
    "               color='black', marker='.', alpha=0.8, s=50, linewidth=3, label=\"actual\")\n",
    "    ax.plot(sub_data.loc[flag_pred, col_time], \n",
    "            sub_data.loc[flag_pred, col_hc+'_pred'], \n",
    "            color=\"red\", linewidth=3, alpha=0.7, label=\"DCA fit\")\n",
    "    # ax.plot(T_pred, pred, color='b`lue', linewidth=3, alpha=0.5, label='DCA fit')\n",
    "    ax.set_xlabel(\"Days\", fontsize=20)\n",
    "    ax.set_ylabel(\"Daily Rate\", fontsize=20)\n",
    "    ax.legend()\n",
    "    # img_path = '../result/plt/' + well + '.png'\n",
    "    # fig.savefig(img_path)\n",
    "    # plt.close(fig)\n"
   ]
  },
  {
   "cell_type": "code",
   "execution_count": 51,
   "metadata": {},
   "outputs": [
    {
     "output_type": "error",
     "ename": "NameError",
     "evalue": "name 'sub_data' is not defined",
     "traceback": [
      "\u001b[0;31m---------------------------------------------------------------------------\u001b[0m",
      "\u001b[0;31mNameError\u001b[0m                                 Traceback (most recent call last)",
      "\u001b[0;32m<ipython-input-51-bbbd9215b765>\u001b[0m in \u001b[0;36m<module>\u001b[0;34m\u001b[0m\n\u001b[1;32m      1\u001b[0m \u001b[0;31m## flag outlier based on ratio between dca predict and actual\u001b[0m\u001b[0;34m\u001b[0m\u001b[0;34m\u001b[0m\u001b[0;34m\u001b[0m\u001b[0m\n\u001b[1;32m      2\u001b[0m \u001b[0;31m# ratio = (predicted - actual over) / predicted\u001b[0m\u001b[0;34m\u001b[0m\u001b[0;34m\u001b[0m\u001b[0;34m\u001b[0m\u001b[0m\n\u001b[0;32m----> 3\u001b[0;31m \u001b[0msub_data\u001b[0m\u001b[0;34m.\u001b[0m\u001b[0mloc\u001b[0m\u001b[0;34m[\u001b[0m\u001b[0mflag_pred\u001b[0m\u001b[0;34m,\u001b[0m \u001b[0;34m'delta_ratio'\u001b[0m\u001b[0;34m]\u001b[0m \u001b[0;34m=\u001b[0m \u001b[0;34m(\u001b[0m\u001b[0msub_data\u001b[0m\u001b[0;34m.\u001b[0m\u001b[0mloc\u001b[0m\u001b[0;34m[\u001b[0m\u001b[0mflag_pred\u001b[0m\u001b[0;34m,\u001b[0m \u001b[0mcol_hc\u001b[0m\u001b[0;34m+\u001b[0m\u001b[0;34m'_pred'\u001b[0m\u001b[0;34m]\u001b[0m \u001b[0;34m-\u001b[0m \u001b[0msub_data\u001b[0m\u001b[0;34m.\u001b[0m\u001b[0mloc\u001b[0m\u001b[0;34m[\u001b[0m\u001b[0mflag_pred\u001b[0m\u001b[0;34m,\u001b[0m \u001b[0mcol_hc\u001b[0m\u001b[0;34m]\u001b[0m\u001b[0;34m)\u001b[0m \u001b[0;34m/\u001b[0m \u001b[0msub_data\u001b[0m\u001b[0;34m.\u001b[0m\u001b[0mloc\u001b[0m\u001b[0;34m[\u001b[0m\u001b[0mflag_pred\u001b[0m\u001b[0;34m,\u001b[0m \u001b[0mcol_hc\u001b[0m\u001b[0;34m+\u001b[0m\u001b[0;34m'_pred'\u001b[0m\u001b[0;34m]\u001b[0m\u001b[0;34m\u001b[0m\u001b[0;34m\u001b[0m\u001b[0m\n\u001b[0m\u001b[1;32m      4\u001b[0m \u001b[0;31m# use mean +/- 2*std as cutoff for flagging outlier\u001b[0m\u001b[0;34m\u001b[0m\u001b[0;34m\u001b[0m\u001b[0;34m\u001b[0m\u001b[0m\n\u001b[1;32m      5\u001b[0m \u001b[0mratio_mean\u001b[0m \u001b[0;34m=\u001b[0m \u001b[0msub_data\u001b[0m\u001b[0;34m.\u001b[0m\u001b[0mloc\u001b[0m\u001b[0;34m[\u001b[0m\u001b[0mflag_pred\u001b[0m\u001b[0;34m,\u001b[0m \u001b[0;34m'delta_ratio'\u001b[0m\u001b[0;34m]\u001b[0m\u001b[0;34m.\u001b[0m\u001b[0mmean\u001b[0m\u001b[0;34m(\u001b[0m\u001b[0;34m)\u001b[0m\u001b[0;34m\u001b[0m\u001b[0;34m\u001b[0m\u001b[0m\n",
      "\u001b[0;31mNameError\u001b[0m: name 'sub_data' is not defined"
     ]
    }
   ],
   "source": [
    "## flag outlier based on ratio between dca predict and actual\n",
    "# ratio = (predicted - actual over) / predicted \n",
    "sub_data.loc[flag_pred, 'delta_ratio'] = (sub_data.loc[flag_pred, col_hc+'_pred'] - sub_data.loc[flag_pred, col_hc]) / sub_data.loc[flag_pred, col_hc+'_pred']\n",
    "# use mean +/- 2*std as cutoff for flagging outlier\n",
    "ratio_mean = sub_data.loc[flag_pred, 'delta_ratio'].mean()\n",
    "ratio_std = sub_data.loc[flag_pred, 'delta_ratio'].std()\n",
    "cutoff_1 = ratio_mean - 2.0 * ratio_std\n",
    "cutoff_2 = ratio_mean + 2.0 * ratio_std"
   ]
  },
  {
   "cell_type": "code",
   "execution_count": 52,
   "metadata": {},
   "outputs": [
    {
     "output_type": "error",
     "ename": "NameError",
     "evalue": "name 'sub_data' is not defined",
     "traceback": [
      "\u001b[0;31m---------------------------------------------------------------------------\u001b[0m",
      "\u001b[0;31mNameError\u001b[0m                                 Traceback (most recent call last)",
      "\u001b[0;32m<ipython-input-52-5e263bbbbf15>\u001b[0m in \u001b[0;36m<module>\u001b[0;34m\u001b[0m\n\u001b[1;32m      1\u001b[0m \u001b[0;31m# flag outlier\u001b[0m\u001b[0;34m\u001b[0m\u001b[0;34m\u001b[0m\u001b[0;34m\u001b[0m\u001b[0m\n\u001b[0;32m----> 2\u001b[0;31m \u001b[0msub_data\u001b[0m\u001b[0;34m[\u001b[0m\u001b[0;34m'flag_outlier'\u001b[0m\u001b[0;34m]\u001b[0m \u001b[0;34m=\u001b[0m \u001b[0;32mFalse\u001b[0m\u001b[0;34m\u001b[0m\u001b[0;34m\u001b[0m\u001b[0m\n\u001b[0m\u001b[1;32m      3\u001b[0m \u001b[0msub_data\u001b[0m\u001b[0;34m.\u001b[0m\u001b[0mloc\u001b[0m\u001b[0;34m[\u001b[0m\u001b[0msub_data\u001b[0m\u001b[0;34m[\u001b[0m\u001b[0;34m'delta_ratio'\u001b[0m\u001b[0;34m]\u001b[0m \u001b[0;34m<\u001b[0m \u001b[0mcutoff_1\u001b[0m\u001b[0;34m,\u001b[0m \u001b[0;34m'flag_outlier'\u001b[0m\u001b[0;34m]\u001b[0m \u001b[0;34m=\u001b[0m \u001b[0;32mTrue\u001b[0m\u001b[0;34m\u001b[0m\u001b[0;34m\u001b[0m\u001b[0m\n\u001b[1;32m      4\u001b[0m \u001b[0msub_data\u001b[0m\u001b[0;34m.\u001b[0m\u001b[0mloc\u001b[0m\u001b[0;34m[\u001b[0m\u001b[0msub_data\u001b[0m\u001b[0;34m[\u001b[0m\u001b[0;34m'delta_ratio'\u001b[0m\u001b[0;34m]\u001b[0m \u001b[0;34m>\u001b[0m \u001b[0mcutoff_2\u001b[0m\u001b[0;34m,\u001b[0m \u001b[0;34m'flag_outlier'\u001b[0m\u001b[0;34m]\u001b[0m \u001b[0;34m=\u001b[0m \u001b[0;32mTrue\u001b[0m\u001b[0;34m\u001b[0m\u001b[0;34m\u001b[0m\u001b[0m\n",
      "\u001b[0;31mNameError\u001b[0m: name 'sub_data' is not defined"
     ]
    }
   ],
   "source": [
    "# flag outlier\n",
    "sub_data['flag_outlier'] = False\n",
    "sub_data.loc[sub_data['delta_ratio'] < cutoff_1, 'flag_outlier'] = True\n",
    "sub_data.loc[sub_data['delta_ratio'] > cutoff_2, 'flag_outlier'] = True"
   ]
  },
  {
   "cell_type": "code",
   "execution_count": 53,
   "metadata": {},
   "outputs": [
    {
     "output_type": "error",
     "ename": "NameError",
     "evalue": "name 'popt' is not defined",
     "traceback": [
      "\u001b[0;31m---------------------------------------------------------------------------\u001b[0m",
      "\u001b[0;31mNameError\u001b[0m                                 Traceback (most recent call last)",
      "\u001b[0;32m<ipython-input-53-4c8dfe4a8627>\u001b[0m in \u001b[0;36m<module>\u001b[0;34m\u001b[0m\n\u001b[1;32m      3\u001b[0m \u001b[0mtitle\u001b[0m \u001b[0;34m=\u001b[0m \u001b[0;34m'well: '\u001b[0m \u001b[0;34m+\u001b[0m \u001b[0mwell\u001b[0m \u001b[0;34m+\u001b[0m \u001b[0;34m' '\u001b[0m \u001b[0;34m+\u001b[0m \u001b[0mcol_hc\u001b[0m \u001b[0;34m+\u001b[0m \u001b[0;34m':'\u001b[0m\u001b[0;31m\\\u001b[0m\u001b[0;34m\u001b[0m\u001b[0;34m\u001b[0m\u001b[0m\n\u001b[1;32m      4\u001b[0m         \u001b[0;34m+\u001b[0m \u001b[0;34m' q_i '\u001b[0m \u001b[0;34m+\u001b[0m \u001b[0mstr\u001b[0m\u001b[0;34m(\u001b[0m\u001b[0mint\u001b[0m\u001b[0;34m(\u001b[0m\u001b[0mpopt\u001b[0m\u001b[0;34m[\u001b[0m\u001b[0;36m0\u001b[0m\u001b[0;34m]\u001b[0m\u001b[0;34m)\u001b[0m\u001b[0;34m)\u001b[0m\u001b[0;31m \u001b[0m\u001b[0;31m\\\u001b[0m\u001b[0;34m\u001b[0m\u001b[0;34m\u001b[0m\u001b[0m\n\u001b[0;32m----> 5\u001b[0;31m         \u001b[0;34m+\u001b[0m \u001b[0;34m', d_i '\u001b[0m \u001b[0;34m+\u001b[0m \u001b[0mstr\u001b[0m\u001b[0;34m(\u001b[0m\u001b[0mround\u001b[0m\u001b[0;34m(\u001b[0m\u001b[0mpopt\u001b[0m\u001b[0;34m[\u001b[0m\u001b[0;36m1\u001b[0m\u001b[0;34m]\u001b[0m\u001b[0;34m*\u001b[0m\u001b[0;36m100\u001b[0m\u001b[0;34m,\u001b[0m \u001b[0;36m1\u001b[0m\u001b[0;34m)\u001b[0m\u001b[0;34m)\u001b[0m \u001b[0;34m+\u001b[0m \u001b[0;34m'%'\u001b[0m\u001b[0;34m\u001b[0m\u001b[0;34m\u001b[0m\u001b[0m\n\u001b[0m\u001b[1;32m      6\u001b[0m \u001b[0;32mif\u001b[0m \u001b[0mdc_model\u001b[0m \u001b[0;34m==\u001b[0m \u001b[0;34m'hyperbolic'\u001b[0m\u001b[0;34m:\u001b[0m\u001b[0;34m\u001b[0m\u001b[0;34m\u001b[0m\u001b[0m\n\u001b[1;32m      7\u001b[0m     \u001b[0mtitle\u001b[0m \u001b[0;34m+=\u001b[0m \u001b[0;34m', b '\u001b[0m \u001b[0;34m+\u001b[0m \u001b[0mstr\u001b[0m\u001b[0;34m(\u001b[0m\u001b[0mround\u001b[0m\u001b[0;34m(\u001b[0m\u001b[0mpopt\u001b[0m\u001b[0;34m[\u001b[0m\u001b[0;36m2\u001b[0m\u001b[0;34m]\u001b[0m\u001b[0;34m,\u001b[0m \u001b[0;36m3\u001b[0m\u001b[0;34m)\u001b[0m\u001b[0;34m)\u001b[0m\u001b[0;34m\u001b[0m\u001b[0;34m\u001b[0m\u001b[0m\n",
      "\u001b[0;31mNameError\u001b[0m: name 'popt' is not defined"
     ]
    }
   ],
   "source": [
    "well = str(well)\n",
    "fig, ax = plt.subplots(1, figsize=(15, 8))\n",
    "title = 'well: ' + well + ' ' + col_hc + ':'\\\n",
    "        + ' q_i ' + str(int(popt[0])) \\\n",
    "        + ', d_i ' + str(round(popt[1]*100, 1)) + '%'\n",
    "if dc_model == 'hyperbolic':\n",
    "    title += ', b ' + str(round(popt[2], 3))\n",
    "ax.set_title(title, fontsize=20)\n",
    "label_size = 15\n",
    "yed = [tick.label.set_fontsize(label_size) for tick in ax.yaxis.get_major_ticks()]\n",
    "xed = [tick.label.set_fontsize(label_size) for tick in ax.xaxis.get_major_ticks()]\n",
    "ax.scatter(sub_data.loc[sub_data['flag_data'], col_time], \n",
    "           sub_data.loc[sub_data['flag_data'], col_hc], \n",
    "           color='grey', marker='.', alpha=0.7, s=50, linewidth=3, label=\"exclude\")\n",
    "ax.scatter(sub_data.loc[flag_pred, col_time], \n",
    "           sub_data.loc[flag_pred, col_hc], \n",
    "           color='black', marker='.', alpha=0.7, s=50, linewidth=3, label=\"actual\")\n",
    "ax.scatter(sub_data.loc[sub_data['flag_outlier'], col_time], \n",
    "           sub_data.loc[sub_data['flag_outlier'], col_hc], \n",
    "           color='blue', marker='.', alpha=0.8, s=50, linewidth=3, label=\"outlier\")\n",
    "ax.plot(sub_data.loc[flag_pred, col_time], sub_data.loc[flag_pred, col_hc+'_pred'], color=\"red\", linewidth=3, alpha=0.7, label=\"DCA fit\")\n",
    "# ax.plot(T_pred, pred, color='b`lue', linewidth=3, alpha=0.5, label='DCA fit')\n",
    "ax.set_xlabel(\"Days\", fontsize=20)\n",
    "ax.set_ylabel(\"Daily Rate\", fontsize=20)\n",
    "\n",
    "ax.legend()\n"
   ]
  },
  {
   "cell_type": "code",
   "execution_count": null,
   "metadata": {},
   "outputs": [],
   "source": []
  },
  {
   "cell_type": "code",
   "execution_count": null,
   "metadata": {},
   "outputs": [],
   "source": []
  },
  {
   "cell_type": "code",
   "execution_count": 54,
   "metadata": {
    "scrolled": false
   },
   "outputs": [
    {
     "output_type": "error",
     "ename": "NameError",
     "evalue": "name 'id_list' is not defined",
     "traceback": [
      "\u001b[0;31m---------------------------------------------------------------------------\u001b[0m",
      "\u001b[0;31mNameError\u001b[0m                                 Traceback (most recent call last)",
      "\u001b[0;32m<timed exec>\u001b[0m in \u001b[0;36m<module>\u001b[0;34m\u001b[0m\n",
      "\u001b[0;31mNameError\u001b[0m: name 'id_list' is not defined"
     ]
    }
   ],
   "source": [
    "%%time\n",
    "\n",
    "## DCA fitting wells and export fitting result to plots and ppt\n",
    "# open presentation\n",
    "prs = Presentation()\n",
    "plot_slide_layout = prs.slide_layouts[6]\n",
    "# placeholder for fitting output\n",
    "dict_fit = {}\n",
    "\n",
    "for well in id_list:\n",
    "    sub_data = data.loc[data[col_id] == well, :]\n",
    "    if single_phase:\n",
    "        popt = dca(sub_data=sub_data, col_hc=col_hc, col_time=col_time, dc_model=dc_model)\n",
    "        if popt is not None:\n",
    "            dict_fit[well] = popt\n",
    "    else:\n",
    "        sub_oil, sub_gas = clean_data(sub_data, col_hc, col_id, col_time)\n",
    "        # oil \n",
    "        popt_oil = dca(sub_data=sub_oil, col_hc='oil', col_time=col_time, dc_model=dc_model)\n",
    "        # gas\n",
    "        popt_gas = dca(sub_data=sub_gas, col_hc='gas', col_time=col_time, dc_model=dc_model)\n",
    "\n",
    "# save ppt\n",
    "prs.save('../result/'+col_hc+'.pptx')\n",
    "# fitting output\n",
    "df_fit = pd.DataFrame.from_dict(dict_fit, orient='index', columns=['q_i', 'd_i', 'b'])\n",
    "df_fit.insert(0, col_id, df_fit.index)\n",
    "df_fit.to_csv('../result/fit_'+col_hc+'.csv', index=False)"
   ]
  },
  {
   "cell_type": "code",
   "execution_count": 55,
   "metadata": {},
   "outputs": [
    {
     "output_type": "error",
     "ename": "NameError",
     "evalue": "name 'df_fit' is not defined",
     "traceback": [
      "\u001b[0;31m---------------------------------------------------------------------------\u001b[0m",
      "\u001b[0;31mNameError\u001b[0m                                 Traceback (most recent call last)",
      "\u001b[0;32m<ipython-input-55-3201fc238ab7>\u001b[0m in \u001b[0;36m<module>\u001b[0;34m\u001b[0m\n\u001b[0;32m----> 1\u001b[0;31m \u001b[0mdf_fit\u001b[0m\u001b[0;34m.\u001b[0m\u001b[0mdescribe\u001b[0m\u001b[0;34m(\u001b[0m\u001b[0;34m)\u001b[0m\u001b[0;34m\u001b[0m\u001b[0;34m\u001b[0m\u001b[0m\n\u001b[0m",
      "\u001b[0;31mNameError\u001b[0m: name 'df_fit' is not defined"
     ]
    }
   ],
   "source": [
    "df_fit.describe()"
   ]
  },
  {
   "cell_type": "code",
   "execution_count": null,
   "metadata": {},
   "outputs": [],
   "source": []
  }
 ],
 "metadata": {
  "kernelspec": {
   "display_name": "Python 3",
   "language": "python",
   "name": "python3"
  },
  "language_info": {
   "codemirror_mode": {
    "name": "ipython",
    "version": 3
   },
   "file_extension": ".py",
   "mimetype": "text/x-python",
   "name": "python",
   "nbconvert_exporter": "python",
   "pygments_lexer": "ipython3",
   "version": "3.7.6"
  }
 },
 "nbformat": 4,
 "nbformat_minor": 4
}